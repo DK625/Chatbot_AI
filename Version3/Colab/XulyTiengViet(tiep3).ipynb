{
 "cells": [
  {
   "cell_type": "markdown",
   "metadata": {
    "id": "rzCcNeKCVR06"
   },
   "source": [
    "Trong phần này sẽ thay thế bóc tách từ tiếng việt từ underthesea thành Pyvi"
   ]
  },
  {
   "cell_type": "code",
   "execution_count": 1,
   "metadata": {
    "colab": {
     "base_uri": "https://localhost:8080/"
    },
    "id": "2D1LxbszU9C4",
    "outputId": "6ad0c31b-95c9-4295-ed98-02bec743dffd",
    "ExecuteTime": {
     "end_time": "2023-11-21T07:11:21.287422600Z",
     "start_time": "2023-11-21T07:11:18.373947Z"
    }
   },
   "outputs": [
    {
     "name": "stdout",
     "output_type": "stream",
     "text": [
      "Requirement already satisfied: pyvi in c:\\users\\admin\\.virtualenvs\\chabot-ai-\\lib\\site-packages (0.1.1)Note: you may need to restart the kernel to use updated packages.\n",
      "\n",
      "Requirement already satisfied: scikit-learn in c:\\users\\admin\\.virtualenvs\\chabot-ai-\\lib\\site-packages (from pyvi) (1.3.2)\n",
      "Requirement already satisfied: sklearn-crfsuite in c:\\users\\admin\\.virtualenvs\\chabot-ai-\\lib\\site-packages (from pyvi) (0.3.6)\n",
      "Requirement already satisfied: numpy<2.0,>=1.17.3 in c:\\users\\admin\\.virtualenvs\\chabot-ai-\\lib\\site-packages (from scikit-learn->pyvi) (1.24.4)\n",
      "Requirement already satisfied: scipy>=1.5.0 in c:\\users\\admin\\.virtualenvs\\chabot-ai-\\lib\\site-packages (from scikit-learn->pyvi) (1.10.1)\n",
      "Requirement already satisfied: joblib>=1.1.1 in c:\\users\\admin\\.virtualenvs\\chabot-ai-\\lib\\site-packages (from scikit-learn->pyvi) (1.3.2)\n",
      "Requirement already satisfied: threadpoolctl>=2.0.0 in c:\\users\\admin\\.virtualenvs\\chabot-ai-\\lib\\site-packages (from scikit-learn->pyvi) (3.2.0)\n",
      "Requirement already satisfied: python-crfsuite>=0.8.3 in c:\\users\\admin\\.virtualenvs\\chabot-ai-\\lib\\site-packages (from sklearn-crfsuite->pyvi) (0.9.9)\n",
      "Requirement already satisfied: six in c:\\users\\admin\\.virtualenvs\\chabot-ai-\\lib\\site-packages (from sklearn-crfsuite->pyvi) (1.16.0)\n",
      "Requirement already satisfied: tabulate in c:\\users\\admin\\.virtualenvs\\chabot-ai-\\lib\\site-packages (from sklearn-crfsuite->pyvi) (0.9.0)\n",
      "Requirement already satisfied: tqdm>=2.0 in c:\\users\\admin\\.virtualenvs\\chabot-ai-\\lib\\site-packages (from sklearn-crfsuite->pyvi) (4.66.1)\n",
      "Requirement already satisfied: colorama in c:\\users\\admin\\.virtualenvs\\chabot-ai-\\lib\\site-packages (from tqdm>=2.0->sklearn-crfsuite->pyvi) (0.4.6)\n"
     ]
    }
   ],
   "source": [
    "%pip install pyvi"
   ]
  },
  {
   "cell_type": "code",
   "execution_count": 2,
   "metadata": {
    "id": "Aw9Opdf2VQwD",
    "ExecuteTime": {
     "end_time": "2023-11-21T07:11:38.763784Z",
     "start_time": "2023-11-21T07:11:31.856480100Z"
    }
   },
   "outputs": [],
   "source": [
    "from sklearn import preprocessing\n",
    "import numpy as np\n",
    "import pandas as pd\n",
    "from sklearn.feature_extraction.text import CountVectorizer, TfidfVectorizer\n",
    "from pyvi import ViTokenizer\n",
    "import re\n",
    "from sklearn.feature_extraction.text import CountVectorizer\n",
    "from sklearn.model_selection import train_test_split\n",
    "from sklearn.naive_bayes import MultinomialNB\n",
    "import pickle\n",
    "import nltk\n",
    "from sklearn.model_selection import KFold\n",
    "from sklearn.model_selection import cross_val_score\n",
    "from sklearn.metrics import accuracy_score"
   ]
  },
  {
   "cell_type": "code",
   "execution_count": 3,
   "metadata": {
    "colab": {
     "base_uri": "https://localhost:8080/"
    },
    "id": "KEgLpucZVfrK",
    "outputId": "6c8195c5-843b-4c71-878f-d12468bffc01",
    "ExecuteTime": {
     "end_time": "2023-11-21T07:12:04.457017400Z",
     "start_time": "2023-11-21T07:12:03.961099400Z"
    }
   },
   "outputs": [
    {
     "name": "stdout",
     "output_type": "stream",
     "text": [
      "thuoc tinh dieu kien\n",
      "0                                            Tạm biệt bot\n",
      "1                                                 Goodbye\n",
      "2                                    Tạm biệt mày nhé bot\n",
      "3                                           Chào tạm biệt\n",
      "4                                Ngày mai gặp lại nhé bot\n",
      "                              ...                        \n",
      "2419    ngành học nào là lựa chọn  tốt nhất trong khoa...\n",
      "2420    phân biệt giữa ngành khoa học máy tính và ngàn...\n",
      "2421    phân biệt, khác biệt, tốt nhất, đặc biệt, phân...\n",
      "2422    Phân biệt giữa  các ngành học trong khoa công ...\n",
      "2423    Nên lựa chọn ngành học nào trong khoa công ngh...\n",
      "Name: question, Length: 2424, dtype: object\n",
      "thuoc tinh can du doan\n",
      "0                                                     bye\n",
      "1                                                     bye\n",
      "2                                                     bye\n",
      "3                                                     bye\n",
      "4                                                     bye\n",
      "                              ...                        \n",
      "2419    nghành KHMT thiên về nghiên cứu, nghành KTPM c...\n",
      "2420    nghành KHMT thiên về nghiên cứu, nghành KTPM c...\n",
      "2421    nghành KHMT thiên về nghiên cứu, nghành KTPM c...\n",
      "2422    nghành KHMT thiên về nghiên cứu, nghành KTPM c...\n",
      "2423    nghành KHMT thiên về nghiên cứu, nghành KTPM c...\n",
      "Name: answer, Length: 2424, dtype: object\n"
     ]
    }
   ],
   "source": [
    "data = pd.read_excel('Data2.xlsx')\n",
    "X= data[\"question\"]\n",
    "Y= data[\"answer\"]\n",
    "print(\"thuoc tinh dieu kien\")\n",
    "print(X)\n",
    "print(\"thuoc tinh can du doan\")\n",
    "print(Y)"
   ]
  },
  {
   "cell_type": "code",
   "execution_count": 31,
   "metadata": {
    "colab": {
     "base_uri": "https://localhost:8080/"
    },
    "id": "7hF-LDj-Vjhp",
    "outputId": "2f5e9606-f479-4688-c6f8-384e2f592a2f",
    "ExecuteTime": {
     "end_time": "2023-11-21T13:49:18.164914300Z",
     "start_time": "2023-11-21T13:49:18.159895400Z"
    }
   },
   "outputs": [
    {
     "name": "stdout",
     "output_type": "stream",
     "text": [
      "['Chỉ tiêu xét tuyển ngành công nghệ thông tin: 390', 'Chỉ tiêu xét tuyển ngành hệ thống thông tin: 120', 'Chỉ tiêu xét tuyển ngành hệ thống thông tin: 130', 'Chỉ tiêu xét tuyển ngành khoa học máy tính: 120', 'Chỉ tiêu xét tuyển ngành kỹ thuật phần mềm: 250', 'Các hoạt động ngoại khóa: CLB tin học, CLB Tiếng Anh, CLB tình nguyện, CLB văn nghệ,….', 'Các khoa thường xuyên tổ chức các chương trình văn nghệ thường niên các sinh viên giao lưu học hỏi', 'Có 3 loại phòng kí túc xá: Phòng thường, chất lượng cao và vip. Giá từ 100.000 đến 550.000', 'Có 3 loại phòng kí túc xá: Phòng thường, chất lượng cao và vip. Giá từ 100.000 đến 550.001', 'Có 3 loại phòng kí túc xá: Phòng thường, chất lượng cao và vip. Giá từ 100.000 đến 550.002', 'Có 3 loại phòng kí túc xá: Phòng thường, chất lượng cao và vip. Giá từ 100.000 đến 550.003', 'Có 3 loại phòng kí túc xá: Phòng thường, chất lượng cao và vip. Giá từ 100.000 đến 550.004', 'Có 3 loại phòng kí túc xá: Phòng thường, chất lượng cao và vip. Giá từ 100.000 đến 550.005', 'Có 3 loại phòng kí túc xá: Phòng thường, chất lượng cao và vip. Giá từ 100.000 đến 550.006', 'Có 3 loại phòng kí túc xá: Phòng thường, chất lượng cao và vip. Giá từ 100.000 đến 550.007', 'Có 3 loại phòng kí túc xá: Phòng thường, chất lượng cao và vip. Giá từ 100.000 đến 550.008', 'Có 3 loại phòng kí túc xá: Phòng thường, chất lượng cao và vip. Giá từ 100.000 đến 550.009', 'Có 3 loại phòng kí túc xá: Phòng thường, chất lượng cao và vip. Giá từ 100.000 đến 550.010', 'Có 3 loại phòng kí túc xá: Phòng thường, chất lượng cao và vip. Giá từ 100.000 đến 550.011', 'Có 3 loại phòng kí túc xá: Phòng thường, chất lượng cao và vip. Giá từ 100.000 đến 550.012', 'Có 3 loại phòng kí túc xá: Phòng thường, chất lượng cao và vip. Giá từ 100.000 đến 550.013', 'Có 3 loại phòng kí túc xá: Phòng thường, chất lượng cao và vip. Giá từ 100.000 đến 550.014', 'Có 3 loại phòng kí túc xá: Phòng thường, chất lượng cao và vip. Giá từ 100.000 đến 550.015', 'Có 3 loại phòng kí túc xá: Phòng thường, chất lượng cao và vip. Giá từ 100.000 đến 550.016', 'Có 3 loại phòng kí túc xá: Phòng thường, chất lượng cao và vip. Giá từ 100.000 đến 550.017', 'Có 3 loại phòng kí túc xá: Phòng thường, chất lượng cao và vip. Giá từ 100.000 đến 550.018', 'Có 3 loại phòng kí túc xá: Phòng thường, chất lượng cao và vip. Giá từ 100.000 đến 550.019', 'Có 3 loại phòng kí túc xá: Phòng thường, chất lượng cao và vip. Giá từ 100.000 đến 550.020', 'Có 3 loại phòng kí túc xá: Phòng thường, chất lượng cao và vip. Giá từ 100.000 đến 550.021', 'Có 3 loại phòng kí túc xá: Phòng thường, chất lượng cao và vip. Giá từ 100.000 đến 550.022', 'Có 3 loại phòng kí túc xá: Phòng thường, chất lượng cao và vip. Giá từ 100.000 đến 550.023', 'Có 3 loại phòng kí túc xá: Phòng thường, chất lượng cao và vip. Giá từ 100.000 đến 550.024', 'Có 3 loại phòng kí túc xá: Phòng thường, chất lượng cao và vip. Giá từ 100.000 đến 550.025', 'Có 3 loại phòng kí túc xá: Phòng thường, chất lượng cao và vip. Giá từ 100.000 đến 550.026', 'Có 3 loại phòng kí túc xá: Phòng thường, chất lượng cao và vip. Giá từ 100.000 đến 550.027', 'Có 3 loại phòng kí túc xá: Phòng thường, chất lượng cao và vip. Giá từ 100.000 đến 550.028', 'Có 3 loại phòng kí túc xá: Phòng thường, chất lượng cao và vip. Giá từ 100.000 đến 550.029', 'Có 3 loại phòng kí túc xá: Phòng thường, chất lượng cao và vip. Giá từ 100.000 đến 550.030', 'Có 3 loại phòng kí túc xá: Phòng thường, chất lượng cao và vip. Giá từ 100.000 đến 550.031', 'Có 3 loại phòng kí túc xá: Phòng thường, chất lượng cao và vip. Giá từ 100.000 đến 550.032', 'Có 3 loại phòng kí túc xá: Phòng thường, chất lượng cao và vip. Giá từ 100.000 đến 550.033', 'Có 3 loại phòng kí túc xá: Phòng thường, chất lượng cao và vip. Giá từ 100.000 đến 550.034', 'Có 3 loại phòng kí túc xá: Phòng thường, chất lượng cao và vip. Giá từ 100.000 đến 550.035', 'Có 3 loại phòng kí túc xá: Phòng thường, chất lượng cao và vip. Giá từ 100.000 đến 550.036', 'Có 3 loại phòng kí túc xá: Phòng thường, chất lượng cao và vip. Giá từ 100.000 đến 550.037', 'Có 3 loại phòng kí túc xá: Phòng thường, chất lượng cao và vip. Giá từ 100.000 đến 550.038', 'Có 4 ngành: Công nghệ thông tin, Khoa học máy tính, Hệ thống thông tin, Kỹ Thuật phần mềm', 'Có nhiều phòng thực hành với máy cấu hình cao đáp ứng đầy đủ yêu cầu học tập cho các học phần.', 'Có đầy đủ kiến thức và kỹ năng có thể đáp ứng nhu cầu nhà tuyển dụng', 'Cả 3 cơ sở đều có kí túc xá trong trường với những giá tiền các loại phòng khác nhau  ở từng cơ sở', 'Giỏi toán giúp ta rèn luyện tư duy logic.', 'Hàng kỳ, nhà trường dành một phần kinh phí để trao học bổng cho sinh viên đạt kết quả cao trong học tập.', 'Hình thức đào tạo ngành công nghệ thông tin: Hình thức chính quy', 'Hình thức đào tạo ngành hệ thống thông tin: Hình thức chính quy', 'Hình thức đào tạo ngành khoa học máy tính: Hình thức chính quy', 'Hình thức đào tạo ngành kỹ thuật phần mềm: Hình thức chính quy', 'Khoa có các câu lạc bộ: HIT (chuyên về học thuật), ISTAR (Văn nghệ),CLB Tiếng Anh,Thanh niên tình nguyện…', 'Không bị nợ môn nào và điểm tích lũy 2.5 trở lên', 'Không bị nợ môn và có tích lũy 2.5 trở lên', 'Không nợ môn nào và có điểm tích lũy 2.5 trở lên', 'Không nợ môn nào, điểm tích lũy 2.5 trở lên', 'Mã ngành công nghệ thông tin: 7480201', 'Mã ngành hệ thống thông tin: 7480104', 'Mã ngành khoa học máy tính: 7480101', 'Mã ngành kỹ thuật phần mềm: 7480103', 'Ngành công nghê thông tin là một ngành đào tạo hàng đầu của trường Đại hoc Công Nghiệp Hà Nội', 'Ngành công nghệ thông tin cần đạt trình độ ngoại ngữ bậc 3', 'Ngành công nghệ thông tin sinh viên được học: Nền tảng khoa học tự nhiên, kiến thức cơ bản mạng máy máy, lập trình, phần mềm,…', 'Ngành công nghệ thông tin thực tập tốt nghiệp vào cuối năm 4', 'Ngành công nghệ thông tin đào tạo: Công nghệ mạng, các ngôn ngữ lập trình, trí tuệ nhân tạo(AI) và các kỹ năng mềm,….', 'Ngành hệ thống thông tin cần đạt trình độ ngoại ngữ bậc 3', 'Ngành hệ thống thông tin sinh viên được học: Nền tảng khoa học tự nhiên, kiến thức cơ bản mạng máy máy, lập trình, phần mềm,…', 'Ngành hệ thống thông tin thực tập tốt nghiệp vào cuối năm 4', 'Ngành hệ thống thông tin đào tạo: Công nghệ mạng, các ngôn ngữ lập trình, trí tuệ nhân tạo(AI) và các kỹ năng mềm,….', 'Ngành khoa học máy tính cần đạt trình độ ngoại ngữ bậc 3', 'Ngành khoa học máy tính sinh viên được học: Nền tảng khoa học tự nhiên, kiến thức cơ bản mạng máy máy, lập trình, phần mềm,…', 'Ngành khoa học máy tính thực tập tốt nghiệp vào cuối năm 4', 'Ngành khoa học máy tính đào tạo: Công nghệ mạng, các ngôn ngữ lập trình, trí tuệ nhân tạo(AI) và các kỹ năng mềm,….', 'Ngành kỹ thuật phần mềm cần đạt trình độ ngoại ngữ bậc 3', 'Ngành kỹ thuật phần mềm sinh viên được học: Nền tảng khoa học tự nhiên, kiến thức cơ bản mạng máy máy, lập trình, phần mềm,…', 'Ngành kỹ thuật phần mềm thực tập tốt nghiệp vào cuối năm 4', 'Ngành kỹ thuật phần mềm đào tạo: Công nghệ mạng, các ngôn ngữ lập trình, trí tuệ nhân tạo(AI) và các kỹ năng mềm,….', 'Những công việc ngành công nghệ thông tin: Lập trình web, Quản trị mạng, Phân tích dữ liệu, Trí tuệ nhân tạo…', 'Những công việc ngành hệ thống thông tin: Lập trình web, Quản trị mạng, Phân tích dữ liệu, Trí tuệ nhân tạo…', 'Những công việc ngành khoa học máy tính: Lập trình web, Quản trị mạng, Phân tích dữ liệu, Trí tuệ nhân tạo…', 'Những công việc ngành kỹ thuật phần mềm: Lập trình web, Quản trị mạng, Phân tích dữ liệu, Trí tuệ nhân tạo…', 'Những ngôn ngữ lập trình: C, C++, C#, Java, JavaScript, Python, PHP.', 'Những ngôn ngữ lập trình: C, C++, Java, C#, JavaScript, PHP, Python.', 'Những ngôn ngữ lập trình: Java, C, C++, C#, JavaScript, PHP, Python.', 'Năm nhất sẽ đi quân sự ở cơ sở 3 Hà Nam với thời gian 4 tuần', 'Năm đầu học ở cơ sở 3(Phủ Lý, Hà Nam)', 'Sau tốt nghiệp, làm những lĩnh vực ngành công nghệ thông tin: Các doanh nghiệp thiết kế, gia công, phát triển phầm mềm', 'Sau tốt nghiệp, làm những lĩnh vực ngành hệ thống thông tin: Các doanh nghiệp thiết kế, gia công, phát triển phầm mềm', 'Sau tốt nghiệp, làm những lĩnh vực ngành khoa học máy tính: Các doanh nghiệp thiết kế, gia công, phát triển phầm mềm', 'Sau tốt nghiệp, làm những lĩnh vực ngành kỹ thuật phần mềm: Các doanh nghiệp thiết kế, gia công, phát triển phầm mềm', 'Sinh viên câu lạc bộ  được lợi ích  giao lưu học hỏi nhiều hơn về kiến thức cũng như khả năng giao tiếp,….', 'Thông minh và sáng tạo, đam mê công nghệ, trình độ ngoại ngữ, trau dồi kiến thức, ham học hỏi.', 'Thời gian đào tạo ngành công nghệ thông tin: 4 năm', 'Thời gian đào tạo ngành hệ thống thông tin: 4 năm', 'Thời gian đào tạo ngành khoa học máy tính: 4 năm', 'Thời gian đào tạo ngành kỹ thuật phần mềm: 4 năm', 'Trường Đại Học Công Nghiệp Hà Nội là trường uy tín chất lượng cao. Sau khi ra trường sinh viên có thể đáp ứng đủ nhu cầu của nhà tuyển dụng', 'Trọ ở những khu vực tây tựu,văn trì và những nơi xung quanh trường giá rất rẻ, hợp lý…', 'Tổ hợp xét tuyển ngành công nghệ thông tin: A00, A01', 'Tổ hợp xét tuyển ngành hệ thống thông tin: A00, A01', 'Tổ hợp xét tuyển ngành khoa học máy tính: A00, A01', 'Tổ hợp xét tuyển ngành kỹ thuật phần mềm: A00, A01', 'Tổng tín chỉ ngành hệ thống thông tin: 149 ', 'Tổng tín chỉ ngành khoa học máy tính: 149 ', 'Tổng tín chỉ ngành kỹ thuật phần mềm: 147', 'Tổng tính chỉ ngành công nghệ thông tin: 149 ', 'Văn phòng khoa công nghệ thông tin: Tầng 6 nhà A1 Đại Học Công Nghiệp Hà Nội', 'Website: fit.haui.edu.vn', 'bye', 'cảm ơn bạn', 'cố lên ', 'hí hí hí hí …..', 'nghành KHMT thiên về nghiên cứu, nghành KTPM chuyên về phần mềm, ngành CNTT học nhiều mảng, HTTT chuyên về hệ thống', 'noanswer', 'năm học này 1 tín chỉ giá 350k, đối với tín chỉ thực hành và bài tập lớn hệ số nhân đôi', 'thật', 'tôi không biết', 'tôi được tạo bởi các thành viên trong nhóm 16 môn mã nguồn mở', 'xin chào bạn, chúng tôi có thể giúp được gì cho bạn', 'xin lỗi bạn', 'Đam mê công nghệ, thông minh và có óc sáng tạo, ham học hỏi, trau dồi kiến thức, trình độ ngoại ngữ.', 'Đam mê công nghệ, thông minh và có óc sáng tạo, ham học hỏi, trình độ ngoại ngữ, trau dồi kiến thức.', 'Đam mê công nghệ, thông minh và có óc sáng tạo, trình độ ngoại ngữ, trau dồi kiến thức, ham học hỏi.', 'Điều kiện học bổng: không trượt môn nào, học trên 15 tín trên kì, điểm tích lũy kì thuộc top của ngành', 'Điểm chuẩn ngành công nghệ thông tin năm 2018: 20.6 điểm', 'Điểm chuẩn ngành công nghệ thông tin năm 2019: 23 điểm', 'Điểm chuẩn ngành công nghệ thông tin năm 2020: 25.6 điểm', 'Điểm chuẩn ngành công nghệ thông tin năm 2021: 25.8 điểm', 'Điểm chuẩn ngành hệ thống thông tin năm 2018: 19 điểm', 'Điểm chuẩn ngành hệ thống thông tin năm 2019: 22.6 điểm', 'Điểm chuẩn ngành hệ thống thông tin năm 2020: 24.6 điểm', 'Điểm chuẩn ngành hệ thống thông tin năm 2021: 23.6 điểm', 'Điểm chuẩn ngành khoa học máy tính năm 2018: 19.6 điểm', 'Điểm chuẩn ngành khoa học máy tính năm 2019: 22 điểm', 'Điểm chuẩn ngành khoa học máy tính năm 2020: 23 điểm', 'Điểm chuẩn ngành khoa học máy tính năm 2021: 24 điểm', 'Điểm chuẩn ngành kỹ thuật phần mềm năm 2018: 20.2 điểm', 'Điểm chuẩn ngành kỹ thuật phần mềm năm 2019: 24.2 điểm', 'Điểm chuẩn ngành kỹ thuật phần mềm năm 2020: 25.2 điểm', 'Điểm chuẩn ngành kỹ thuật phần mềm năm 2021: 24.4 điểm', 'Đối tượng tuyển sinh ngành công nghệ thông tin: Học sinh tốt nghiệp THPT hoặc tương đương', 'Đối tượng tuyển sinh ngành hệ thống thông tin: Học sinh tốt nghiệp THPT hoặc tương đương', 'Đối tượng tuyển sinh ngành khoa học máy tính: Học sinh tốt nghiệp THPT hoặc tương đương', 'Đối tượng tuyển sinh ngành kỹ thuật phần mềm: Học sinh tốt nghiệp THPT hoặc tương đương']\n",
      "149\n",
      "[113 113 113 ... 117 117 117]\n"
     ]
    }
   ],
   "source": [
    "#Tiep theo chung ta se ma hoa Y sao cho no hop ly\n",
    "le = preprocessing.LabelEncoder()\n",
    "le.fit(Y)\n",
    "\n",
    "list_label = list(le.classes_)\n",
    "\n",
    "print(list_label)\n",
    "print(len(list_label))\n",
    "\n",
    "label = le.transform(Y)\n",
    "print(label)"
   ]
  },
  {
   "cell_type": "code",
   "execution_count": 20,
   "metadata": {
    "id": "4kFZKbafVz-r",
    "ExecuteTime": {
     "end_time": "2023-11-21T07:59:31.746962600Z",
     "start_time": "2023-11-21T07:59:31.733997700Z"
    }
   },
   "outputs": [],
   "source": [
    "def tienxuly(document): \n",
    "    document = ViTokenizer.tokenize(document)\n",
    "    # đưa về lower\n",
    "    document = document.lower()\n",
    "    # xóa các ký tự không cần thiết\n",
    "    document = re.sub(r'[^\\s\\wáàảãạăắằẳẵặâấầẩẫậéèẻẽẹêếềểễệóòỏõọôốồổỗộơớờởỡợíìỉĩịúùủũụưứừửữựýỳỷỹỵđ_]',' ',document)\n",
    "    # xóa khoảng trắng thừa\n",
    "    document = re.sub(r'\\s+', ' ', document).strip()\n",
    "    return document"
   ]
  },
  {
   "cell_type": "code",
   "execution_count": 21,
   "metadata": {
    "colab": {
     "base_uri": "https://localhost:8080/"
    },
    "id": "_hz63sz9Xgpw",
    "outputId": "3ed2c693-92c3-4098-a57d-e7db31ee3262",
    "ExecuteTime": {
     "end_time": "2023-11-21T07:59:37.845649100Z",
     "start_time": "2023-11-21T07:59:36.143165300Z"
    }
   },
   "outputs": [
    {
     "data": {
      "text/plain": "0                                            tạm_biệt bot\n1                                                 goodbye\n2                                    tạm_biệt mày nhé bot\n3                                           chào tạm_biệt\n4                                ngày_mai gặp lại nhé bot\n                              ...                        \n2419    ngành học nào là lựa_chọn tốt nhất trong khoa ...\n2420    phân_biệt giữa ngành khoa_học máy_tính và ngàn...\n2421    phân_biệt khác_biệt tốt nhất đặc_biệt phân_biệ...\n2422    phân_biệt giữa các ngành học trong khoa công_n...\n2423    nên lựa_chọn ngành học nào trong khoa công_ngh...\nName: question, Length: 2424, dtype: object"
     },
     "execution_count": 21,
     "metadata": {},
     "output_type": "execute_result"
    }
   ],
   "source": [
    "for i in range(0,X.count()):\n",
    "  X[i] = tienxuly(X[i])\n",
    "\n",
    "X"
   ]
  },
  {
   "cell_type": "code",
   "execution_count": 26,
   "metadata": {
    "colab": {
     "base_uri": "https://localhost:8080/",
     "height": 333
    },
    "id": "o0oaY0SaXklo",
    "outputId": "7cc881e5-32ab-45d5-974b-bca1f721e257",
    "ExecuteTime": {
     "end_time": "2023-11-21T08:14:26.700138900Z",
     "start_time": "2023-11-21T08:14:26.418872400Z"
    }
   },
   "outputs": [
    {
     "data": {
      "text/plain": "<Figure size 640x480 with 1 Axes>",
      "image/png": "[encoded data removed]"
     },
     "metadata": {},
     "output_type": "display_data"
    },
    {
     "data": {
      "text/plain": "<Axes: xlabel='Samples', ylabel='Counts'>"
     },
     "execution_count": 26,
     "metadata": {},
     "output_type": "execute_result"
    }
   ],
   "source": [
    "#chung ta se loai bo stop word trong van ban\n",
    "\n",
    "\n",
    "#bay h dau tien minh muon biet cac stop word o dau va cho nao\n",
    "\n",
    "#tokens = [t for t in text.split()]\n",
    "tokens = []\n",
    "\n",
    "for i in range(0,X.count()):\n",
    "  for j in X[i].split():\n",
    "    tokens.append(j)\n",
    "\n",
    "freq = nltk.FreqDist(tokens)\n",
    "freq.plot(20, cumulative=False)"
   ]
  },
  {
   "cell_type": "code",
   "execution_count": 27,
   "metadata": {
    "colab": {
     "base_uri": "https://localhost:8080/",
     "height": 54
    },
    "id": "8cWiDWlSXqsS",
    "outputId": "72797b8e-d699-4cab-d24b-229fe6f9b414",
    "ExecuteTime": {
     "end_time": "2023-11-21T08:19:49.033722200Z",
     "start_time": "2023-11-21T08:19:49.010786Z"
    }
   },
   "outputs": [
    {
     "name": "stdout",
     "output_type": "stream",
     "text": [
      "ngày_mai gặp lại nhé bot\n"
     ]
    },
    {
     "data": {
      "text/plain": "'ngày_mai gặp lại nhé bot'"
     },
     "execution_count": 27,
     "metadata": {},
     "output_type": "execute_result"
    }
   ],
   "source": [
    "#nhu vay chung ta biet mot so tu xuat hien xuat hien thuong xuyen va no se anh huong toi mo hinh can du doan\n",
    "#chung ta se loai bo chung de cho model co do chinh xac cao hon\n",
    "\n",
    "stopword = [\"nghành\",\"gì\",\"là\",\"trường\",\"năm\"]\n",
    " \n",
    "def remove_stopwords(line):\n",
    "    words = []\n",
    "    for word in line.strip().split():\n",
    "        if word not in stopword:\n",
    "            words.append(word)\n",
    "    return ' '.join(words)\n",
    "\n",
    "print(X[4])\n",
    "demo = remove_stopwords(X[4])\n",
    "demo"
   ]
  },
  {
   "cell_type": "code",
   "execution_count": 28,
   "metadata": {
    "id": "6ow-QIMOX3zZ",
    "ExecuteTime": {
     "end_time": "2023-11-21T13:40:12.418630300Z",
     "start_time": "2023-11-21T13:40:12.245092200Z"
    }
   },
   "outputs": [],
   "source": [
    "for i in range(0,X.count()):\n",
    "  X[i]= remove_stopwords(X[i])"
   ]
  },
  {
   "cell_type": "code",
   "execution_count": 40,
   "metadata": {
    "id": "kzvWVAZeX7cA",
    "ExecuteTime": {
     "end_time": "2023-11-21T13:59:51.803410200Z",
     "start_time": "2023-11-21T13:59:51.771472100Z"
    }
   },
   "outputs": [],
   "source": [
    "#buoc tiep theo chung ta se xay dung bo tu dien cho may hoc\n",
    "vectorizer = CountVectorizer()\n",
    "\n",
    "def transform(data):\n",
    "  data= list(data)\n",
    "  return vectorizer.fit_transform(data).todense()\n",
    "\n",
    "# data1 = transform(X)\n",
    "data1 = np.asarray(transform(X))"
   ]
  },
  {
   "cell_type": "code",
   "execution_count": 41,
   "metadata": {
    "colab": {
     "base_uri": "https://localhost:8080/"
    },
    "id": "bLUFQCKjX-jY",
    "outputId": "231278e4-fbd2-49e0-cff3-216c4fc372f5",
    "ExecuteTime": {
     "end_time": "2023-11-21T13:59:54.065748Z",
     "start_time": "2023-11-21T13:59:54.060762300Z"
    }
   },
   "outputs": [
    {
     "name": "stdout",
     "output_type": "stream",
     "text": [
      "[[0 0 0 ... 0 0 0]\n",
      " [0 0 0 ... 0 0 0]\n",
      " [0 0 0 ... 0 0 0]\n",
      " ...\n",
      " [0 0 0 ... 0 0 0]\n",
      " [0 0 0 ... 0 0 0]\n",
      " [0 0 0 ... 0 0 0]]\n"
     ]
    }
   ],
   "source": [
    "print(data1)"
   ]
  },
  {
   "cell_type": "code",
   "execution_count": 42,
   "metadata": {
    "colab": {
     "base_uri": "https://localhost:8080/"
    },
    "id": "pZTttpvcYDaq",
    "outputId": "5daabf6e-ba30-4dc2-805f-06a1531c0062",
    "ExecuteTime": {
     "end_time": "2023-11-21T13:59:56.766990800Z",
     "start_time": "2023-11-21T13:59:56.755023200Z"
    }
   },
   "outputs": [
    {
     "name": "stdout",
     "output_type": "stream",
     "text": [
      "[[0 0 0 ... 0 0 0]\n",
      " [0 0 0 ... 0 0 0]\n",
      " [0 0 0 ... 0 0 0]\n",
      " ...\n",
      " [0 0 0 ... 0 0 0]\n",
      " [0 0 0 ... 0 0 0]\n",
      " [0 0 0 ... 0 0 0]]\n",
      "[[0 0 0 ... 0 0 0]\n",
      " [0 0 0 ... 0 0 0]\n",
      " [0 0 0 ... 0 0 0]\n",
      " ...\n",
      " [0 0 0 ... 0 0 0]\n",
      " [0 0 0 ... 0 0 0]\n",
      " [0 0 0 ... 0 0 0]]\n",
      "[143 140  88 ...  82  85 126]\n",
      "[139  82 136  98 144 106 133 107  66  69 106 102 141 127  47 122 147 108\n",
      " 147 107 112  95  82 117  66  89 103  64  77  47  47 118 118 117 128  50\n",
      " 129 107  87  97 105  64  83 102 111 133 134   5  73  33 137 113   3  90\n",
      "  47 131 106 142  81 140  49 134  83 134 143 125  56  80  50  82  99 129\n",
      "  78  49  49  46 138  43  69 114 104 115 144 110  60 136  88  52 114  86\n",
      "  97 130  57  46  30 146  56 117 123 123 118   0   4  47  56 140  50  89\n",
      "  84  65  50  77  56  84 110  77  46  97   3  74  71 138 143 137  53 105\n",
      "  77 118 129 105 122  68  85 118 140  84 105  50  55 138 114  96  79  81\n",
      "  42 122  64 113  56 120  83 123  98  82 133  36 144  96  53  95 140  71\n",
      "   3  73  55 126 142 105  87  73 130 145 118  85 123 118 123  96 110  63\n",
      " 142  12 114 131 140 140  81 142  51  59  77  95  95 143 104 101  62  87\n",
      " 144  66  52   5 102 147  91 146 122  50 135  80 118 113 123  96 130 108\n",
      " 126 142 131 137 140  83 137 143 109 101   2 119   4  92  62  84 118  86\n",
      " 135 143  87 112  89  84  91 118  67]\n"
     ]
    }
   ],
   "source": [
    "#chia du lieu ra lam 2 phan\n",
    "X_train, X_test, Y_train, Y_test = train_test_split(data1, label, test_size=0.1, random_state=0)\n",
    "print(X_train)\n",
    "print(X_test)\n",
    "print(Y_train)\n",
    "print(Y_test)"
   ]
  },
  {
   "cell_type": "code",
   "execution_count": 43,
   "metadata": {
    "colab": {
     "base_uri": "https://localhost:8080/"
    },
    "id": "c09OCmk6YHeY",
    "outputId": "0386bd1e-6b7f-49d8-e7fd-19823e6f5596",
    "ExecuteTime": {
     "end_time": "2023-11-21T14:00:00.244645900Z",
     "start_time": "2023-11-21T14:00:00.234669400Z"
    }
   },
   "outputs": [
    {
     "data": {
      "text/plain": "(243, 597)"
     },
     "execution_count": 43,
     "metadata": {},
     "output_type": "execute_result"
    }
   ],
   "source": [
    "X_test.shape"
   ]
  },
  {
   "cell_type": "code",
   "execution_count": 44,
   "metadata": {
    "colab": {
     "base_uri": "https://localhost:8080/"
    },
    "id": "D1bdvRk2YLji",
    "outputId": "4189a137-2423-4345-f429-7669f9f8e333",
    "ExecuteTime": {
     "end_time": "2023-11-21T14:00:06.239222500Z",
     "start_time": "2023-11-21T14:00:02.870194700Z"
    }
   },
   "outputs": [
    {
     "name": "stderr",
     "output_type": "stream",
     "text": [
      "C:\\Users\\Admin\\.virtualenvs\\Chabot-AI-\\lib\\site-packages\\sklearn\\model_selection\\_split.py:737: UserWarning: The least populated class in y has only 1 members, which is less than n_splits=5.\n",
      "  warnings.warn(\n"
     ]
    },
    {
     "name": "stdout",
     "output_type": "stream",
     "text": [
      "78.27  accuracy with a standard deviation of 0.02\n"
     ]
    }
   ],
   "source": [
    "#khoi tao mo hinh\n",
    "#chung ta se dung loai mo hinh multinomial Naive Bayes de phan loai\n",
    "\n",
    "clf= MultinomialNB()\n",
    "scores = cross_val_score(clf, X_train, Y_train, cv=5)\n",
    "print(\"%0.2f  accuracy with a standard deviation of %0.2f\" % (scores.mean()*100, scores.std()))"
   ]
  },
  {
   "cell_type": "code",
   "execution_count": 45,
   "metadata": {
    "colab": {
     "base_uri": "https://localhost:8080/"
    },
    "id": "PpwAHcFXYP_A",
    "outputId": "880a5fe7-4cd8-42f1-bb99-8422726a9f0f",
    "ExecuteTime": {
     "end_time": "2023-11-21T14:00:18.264621100Z",
     "start_time": "2023-11-21T14:00:17.113698400Z"
    }
   },
   "outputs": [
    {
     "data": {
      "text/plain": "MultinomialNB()",
      "text/html": "<style>#sk-container-id-1 {color: black;}#sk-container-id-1 pre{padding: 0;}#sk-container-id-1 div.sk-toggleable {background-color: white;}#sk-container-id-1 label.sk-toggleable__label {cursor: pointer;display: block;width: 100%;margin-bottom: 0;padding: 0.3em;box-sizing: border-box;text-align: center;}#sk-container-id-1 label.sk-toggleable__label-arrow:before {content: \"▸\";float: left;margin-right: 0.25em;color: #696969;}#sk-container-id-1 label.sk-toggleable__label-arrow:hover:before {color: black;}#sk-container-id-1 div.sk-estimator:hover label.sk-toggleable__label-arrow:before {color: black;}#sk-container-id-1 div.sk-toggleable__content {max-height: 0;max-width: 0;overflow: hidden;text-align: left;background-color: #f0f8ff;}#sk-container-id-1 div.sk-toggleable__content pre {margin: 0.2em;color: black;border-radius: 0.25em;background-color: #f0f8ff;}#sk-container-id-1 input.sk-toggleable__control:checked~div.sk-toggleable__content {max-height: 200px;max-width: 100%;overflow: auto;}#sk-container-id-1 input.sk-toggleable__control:checked~label.sk-toggleable__label-arrow:before {content: \"▾\";}#sk-container-id-1 div.sk-estimator input.sk-toggleable__control:checked~label.sk-toggleable__label {background-color: #d4ebff;}#sk-container-id-1 div.sk-label input.sk-toggleable__control:checked~label.sk-toggleable__label {background-color: #d4ebff;}#sk-container-id-1 input.sk-hidden--visually {border: 0;clip: rect(1px 1px 1px 1px);clip: rect(1px, 1px, 1px, 1px);height: 1px;margin: -1px;overflow: hidden;padding: 0;position: absolute;width: 1px;}#sk-container-id-1 div.sk-estimator {font-family: monospace;background-color: #f0f8ff;border: 1px dotted black;border-radius: 0.25em;box-sizing: border-box;margin-bottom: 0.5em;}#sk-container-id-1 div.sk-estimator:hover {background-color: #d4ebff;}#sk-container-id-1 div.sk-parallel-item::after {content: \"\";width: 100%;border-bottom: 1px solid gray;flex-grow: 1;}#sk-container-id-1 div.sk-label:hover label.sk-toggleable__label {background-color: #d4ebff;}#sk-container-id-1 div.sk-serial::before {content: \"\";position: absolute;border-left: 1px solid gray;box-sizing: border-box;top: 0;bottom: 0;left: 50%;z-index: 0;}#sk-container-id-1 div.sk-serial {display: flex;flex-direction: column;align-items: center;background-color: white;padding-right: 0.2em;padding-left: 0.2em;position: relative;}#sk-container-id-1 div.sk-item {position: relative;z-index: 1;}#sk-container-id-1 div.sk-parallel {display: flex;align-items: stretch;justify-content: center;background-color: white;position: relative;}#sk-container-id-1 div.sk-item::before, #sk-container-id-1 div.sk-parallel-item::before {content: \"\";position: absolute;border-left: 1px solid gray;box-sizing: border-box;top: 0;bottom: 0;left: 50%;z-index: -1;}#sk-container-id-1 div.sk-parallel-item {display: flex;flex-direction: column;z-index: 1;position: relative;background-color: white;}#sk-container-id-1 div.sk-parallel-item:first-child::after {align-self: flex-end;width: 50%;}#sk-container-id-1 div.sk-parallel-item:last-child::after {align-self: flex-start;width: 50%;}#sk-container-id-1 div.sk-parallel-item:only-child::after {width: 0;}#sk-container-id-1 div.sk-dashed-wrapped {border: 1px dashed gray;margin: 0 0.4em 0.5em 0.4em;box-sizing: border-box;padding-bottom: 0.4em;background-color: white;}#sk-container-id-1 div.sk-label label {font-family: monospace;font-weight: bold;display: inline-block;line-height: 1.2em;}#sk-container-id-1 div.sk-label-container {text-align: center;}#sk-container-id-1 div.sk-container {/* jupyter's `normalize.less` sets `[hidden] { display: none; }` but bootstrap.min.css set `[hidden] { display: none !important; }` so we also need the `!important` here to be able to override the default hidden behavior on the sphinx rendered scikit-learn.org. See: https://github.com/scikit-learn/scikit-learn/issues/21755 */display: inline-block !important;position: relative;}#sk-container-id-1 div.sk-text-repr-fallback {display: none;}</style><div id=\"sk-container-id-1\" class=\"sk-top-container\"><div class=\"sk-text-repr-fallback\"><pre>MultinomialNB()</pre><b>In a Jupyter environment, please rerun this cell to show the HTML representation or trust the notebook. <br />On GitHub, the HTML representation is unable to render, please try loading this page with nbviewer.org.</b></div><div class=\"sk-container\" hidden><div class=\"sk-item\"><div class=\"sk-estimator sk-toggleable\"><input class=\"sk-toggleable__control sk-hidden--visually\" id=\"sk-estimator-id-1\" type=\"checkbox\" checked><label for=\"sk-estimator-id-1\" class=\"sk-toggleable__label sk-toggleable__label-arrow\">MultinomialNB</label><div class=\"sk-toggleable__content\"><pre>MultinomialNB()</pre></div></div></div></div></div>"
     },
     "execution_count": 45,
     "metadata": {},
     "output_type": "execute_result"
    }
   ],
   "source": [
    "#dua du lieu vao cho model hoc\n",
    "clf.fit(X_train,Y_train)"
   ]
  },
  {
   "cell_type": "code",
   "execution_count": 46,
   "metadata": {
    "colab": {
     "base_uri": "https://localhost:8080/"
    },
    "id": "-0TWQ3ODYXYY",
    "outputId": "3db2a277-41a9-402b-80bd-de944d66d866",
    "ExecuteTime": {
     "end_time": "2023-11-21T14:00:23.323417800Z",
     "start_time": "2023-11-21T14:00:23.312415400Z"
    }
   },
   "outputs": [
    {
     "name": "stdout",
     "output_type": "stream",
     "text": [
      "Độ chính xác so với dữ liệu dự đoán và dữ liệu test là: \n"
     ]
    },
    {
     "data": {
      "text/plain": "0.7613168724279835"
     },
     "execution_count": 46,
     "metadata": {},
     "output_type": "execute_result"
    }
   ],
   "source": [
    "#kiem tra voi du lieu testing xem do chinh xac cua no la bao nhieu\n",
    "\n",
    "prediction = clf.predict(X_test)\n",
    "print(\"Độ chính xác so với dữ liệu dự đoán và dữ liệu test là: \")\n",
    "accuracy_score(Y_test, prediction)"
   ]
  },
  {
   "cell_type": "code",
   "execution_count": 47,
   "metadata": {
    "id": "TRuIiAEzYZyg",
    "ExecuteTime": {
     "end_time": "2023-11-21T14:00:30.087585900Z",
     "start_time": "2023-11-21T14:00:30.065611800Z"
    }
   },
   "outputs": [],
   "source": [
    "#bay h se luu file tu vung lai de dung cho sau nay\n",
    "\n",
    "pickle.dump(vectorizer.vocabulary_, open('vocab.pkl', 'wb')) #luu lai\n",
    "pickle.dump(clf, open('NB_ChatBot_model.pkl', 'wb')) #luu model lai\n",
    "#luu cach ma hoa cua nhan lai\n",
    "pickle.dump(le, open('decode_label.pkl', 'wb'))"
   ]
  },
  {
   "cell_type": "code",
   "execution_count": 47,
   "outputs": [],
   "source": [],
   "metadata": {
    "collapsed": false,
    "ExecuteTime": {
     "end_time": "2023-11-21T14:00:32.981786700Z",
     "start_time": "2023-11-21T14:00:32.959844700Z"
    }
   }
  },
  {
   "cell_type": "code",
   "execution_count": 47,
   "outputs": [],
   "source": [],
   "metadata": {
    "collapsed": false,
    "ExecuteTime": {
     "end_time": "2023-11-21T14:00:33.671941500Z",
     "start_time": "2023-11-21T14:00:33.649004900Z"
    }
   }
  },
  {
   "cell_type": "code",
   "execution_count": null,
   "outputs": [],
   "source": [],
   "metadata": {
    "collapsed": false
   }
  }
 ],
 "metadata": {
  "colab": {
   "collapsed_sections": [],
   "name": "XulyTiengViet(tiep3).ipynb",
   "provenance": []
  },
  "kernelspec": {
   "name": "python3",
   "language": "python",
   "display_name": "Python 3 (ipykernel)"
  },
  "language_info": {
   "codemirror_mode": {
    "name": "ipython",
    "version": 3
   },
   "file_extension": ".py",
   "mimetype": "text/x-python",
   "name": "python",
   "nbconvert_exporter": "python",
   "pygments_lexer": "ipython3",
   "version": "3.8.2"
  }
 },
 "nbformat": 4,
 "nbformat_minor": 0
}
